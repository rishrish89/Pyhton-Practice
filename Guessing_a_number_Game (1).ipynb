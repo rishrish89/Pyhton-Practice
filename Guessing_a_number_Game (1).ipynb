{
  "nbformat": 4,
  "nbformat_minor": 0,
  "metadata": {
    "colab": {
      "provenance": []
    },
    "kernelspec": {
      "name": "python3",
      "display_name": "Python 3"
    },
    "language_info": {
      "name": "python"
    }
  },
  "cells": [
    {
      "cell_type": "code",
      "execution_count": 35,
      "metadata": {
        "id": "FlACyZ0QauGV"
      },
      "outputs": [],
      "source": [
        "import random"
      ]
    },
    {
      "cell_type": "code",
      "source": [
        "max_range = input(\"Enter a number: \")"
      ],
      "metadata": {
        "colab": {
          "base_uri": "https://localhost:8080/"
        },
        "id": "3gZfpiuZbDAo",
        "outputId": "3dd39f32-0cc8-4575-92ff-9b595d72e796"
      },
      "execution_count": 36,
      "outputs": [
        {
          "name": "stdout",
          "output_type": "stream",
          "text": [
            "Enter a number: 15\n"
          ]
        }
      ]
    },
    {
      "cell_type": "code",
      "source": [
        "if max_range.isdigit():\n",
        "  max_range = int(max_range)\n",
        "  if max_range <= 0:\n",
        "    print(\"Enter number greater than 0.\")\n",
        "    quit()\n",
        "else:\n",
        "  print(\"Print number next time\")\n",
        "  quit()\n"
      ],
      "metadata": {
        "id": "XXB1pN8lbCzW"
      },
      "execution_count": 37,
      "outputs": []
    },
    {
      "cell_type": "code",
      "source": [
        "ram = random.randint(0, max_range)\n",
        "guess = 0"
      ],
      "metadata": {
        "id": "4hc3H4oGbCiw"
      },
      "execution_count": 38,
      "outputs": []
    },
    {
      "cell_type": "code",
      "source": [
        "while True:\n",
        "  guess += 1\n",
        "  user_guess = input(\"Guess the number: \")\n",
        "  if user_guess.isdigit():\n",
        "    user_guess = int(user_guess)\n",
        "  else:\n",
        "    continue\n",
        "  if user_guess == ram:\n",
        "    print(\"You got it in {} guesses.\".format(guess))\n",
        "    break\n",
        "  elif user_guess < ram:\n",
        "    print(\"You were below the number. \")\n",
        "  elif user_guess > ram:\n",
        "    print(\"You were above the number. \")\n"
      ],
      "metadata": {
        "colab": {
          "base_uri": "https://localhost:8080/"
        },
        "id": "sLYfLWprbCZF",
        "outputId": "48b70102-ca09-485e-9882-256cb17984fc"
      },
      "execution_count": 39,
      "outputs": [
        {
          "output_type": "stream",
          "name": "stdout",
          "text": [
            "Guess the number: 15\n",
            "You were above the number. \n",
            "Guess the number: 14\n",
            "You were above the number. \n",
            "Guess the number: 10\n",
            "You were below the number. \n",
            "Guess the number: 12\n",
            "You got it in 4 guesses.\n"
          ]
        }
      ]
    },
    {
      "cell_type": "code",
      "source": [],
      "metadata": {
        "id": "bgqlH_xPbCLA"
      },
      "execution_count": 39,
      "outputs": []
    },
    {
      "cell_type": "code",
      "source": [],
      "metadata": {
        "id": "3EXtC8AzbB66"
      },
      "execution_count": 39,
      "outputs": []
    }
  ]
}