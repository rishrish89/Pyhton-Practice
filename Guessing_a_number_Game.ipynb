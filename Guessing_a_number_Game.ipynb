{
  "nbformat": 4,
  "nbformat_minor": 0,
  "metadata": {
    "colab": {
      "provenance": []
    },
    "kernelspec": {
      "name": "python3",
      "display_name": "Python 3"
    },
    "language_info": {
      "name": "python"
    }
  },
  "cells": [
    {
      "cell_type": "code",
      "execution_count": 20,
      "metadata": {
        "id": "FlACyZ0QauGV"
      },
      "outputs": [],
      "source": [
        "import random"
      ]
    },
    {
      "cell_type": "code",
      "source": [
        "max_range = input(\"Enter a number: \")"
      ],
      "metadata": {
        "colab": {
          "base_uri": "https://localhost:8080/"
        },
        "id": "3gZfpiuZbDAo",
        "outputId": "494f8002-0a99-422b-8f2b-346bff6cb7ce"
      },
      "execution_count": 21,
      "outputs": [
        {
          "name": "stdout",
          "output_type": "stream",
          "text": [
            "Enter a number: 10\n"
          ]
        }
      ]
    },
    {
      "cell_type": "code",
      "source": [
        "if max_range.isdigit():\n",
        "  max_range = int(max_range)\n",
        "  if max_range <= 0:\n",
        "    print(\"Enter number greater than 0.\")\n",
        "    quit()\n",
        "else:\n",
        "  print(\"Print number next time\")\n",
        "  quit()\n"
      ],
      "metadata": {
        "id": "XXB1pN8lbCzW"
      },
      "execution_count": 22,
      "outputs": []
    },
    {
      "cell_type": "code",
      "source": [
        "ram = random.randint(0, max_range)\n",
        "print(ram)"
      ],
      "metadata": {
        "colab": {
          "base_uri": "https://localhost:8080/"
        },
        "id": "4hc3H4oGbCiw",
        "outputId": "19d56983-8d25-4a9b-8691-d14f8026b618"
      },
      "execution_count": 23,
      "outputs": [
        {
          "output_type": "stream",
          "name": "stdout",
          "text": [
            "7\n"
          ]
        }
      ]
    },
    {
      "cell_type": "code",
      "source": [
        "while True:\n",
        "  user_guess = input(\"Guess the number: \")\n",
        "  if user_guess.isdigit():\n",
        "    user_guess = int(user_guess)\n",
        "  else:\n",
        "    continue\n",
        "  if user_guess == ram:\n",
        "    print(\"You got it\")\n",
        "    break\n",
        "  else:\n",
        "    print(\"You got it wrong\")\n"
      ],
      "metadata": {
        "colab": {
          "base_uri": "https://localhost:8080/"
        },
        "id": "sLYfLWprbCZF",
        "outputId": "4663e445-e5a0-4512-9e1a-bdad1f3b7b3c"
      },
      "execution_count": 24,
      "outputs": [
        {
          "output_type": "stream",
          "name": "stdout",
          "text": [
            "Guess the number: 4\n",
            "You got it wrong\n",
            "Guess the number: 8\n",
            "You got it wrong\n",
            "Guess the number: 9\n",
            "You got it wrong\n",
            "Guess the number: 10\n",
            "You got it wrong\n",
            "Guess the number: 7\n",
            "You got it\n"
          ]
        }
      ]
    },
    {
      "cell_type": "code",
      "source": [],
      "metadata": {
        "id": "bgqlH_xPbCLA"
      },
      "execution_count": 24,
      "outputs": []
    },
    {
      "cell_type": "code",
      "source": [],
      "metadata": {
        "id": "3EXtC8AzbB66"
      },
      "execution_count": 24,
      "outputs": []
    }
  ]
}